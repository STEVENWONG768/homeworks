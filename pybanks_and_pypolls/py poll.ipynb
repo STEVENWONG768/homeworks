{
 "cells": [
  {
   "cell_type": "code",
   "execution_count": 7,
   "id": "7dd30e7b",
   "metadata": {},
   "outputs": [],
   "source": [
    "import os\n",
    "import csv\n",
    "PyPollcsv = os.path.join(\"PyPoll/Resources/election_data.csv\")"
   ]
  },
  {
   "cell_type": "code",
   "execution_count": 8,
   "id": "0820f363",
   "metadata": {},
   "outputs": [],
   "source": [
    "count = 0\n",
    "candidatelist = []\n",
    "unique_candidate = []\n",
    "vote_count = []\n",
    "vote_percent = []"
   ]
  },
  {
   "cell_type": "code",
   "execution_count": 11,
   "id": "55c04924",
   "metadata": {},
   "outputs": [],
   "source": [
    "with open(PyPollcsv, newline=\"\") as csvfile:\n",
    "    csvreader = csv.reader(csvfile, delimiter=\",\")\n",
    "    csv_header = next(csvreader)\n",
    "    for row in csvreader:\n",
    "        count = count + 1\n",
    "        candidatelist.append(row[2])\n",
    "    for x in set(candidatelist):\n",
    "        unique_candidate.append(x)\n",
    "        y = candidatelist.count(x)\n",
    "        vote_count.append(y)\n",
    "        z = (y/count)*100\n",
    "        vote_percent.append(z)\n",
    "    winning_vote_count = max(vote_count)\n",
    "    winner = unique_candidate[vote_count.index(winning_vote_count)]\n",
    "    \n",
    "\n",
    "    "
   ]
  },
  {
   "cell_type": "code",
   "execution_count": 14,
   "id": "1a791574",
   "metadata": {},
   "outputs": [
    {
     "name": "stdout",
     "output_type": "stream",
     "text": [
      "-------------------------\n",
      "Election Results\n",
      "-------------------------\n",
      "Total Votes :7042002\n",
      "-------------------------\n",
      "Khan: 63.00001050837531% (2218231)\n",
      "O'Tooley: 2.999999147969569% (105630)\n",
      "Correy: 19.999994319797125% (704200)\n",
      "Li: 13.999996023857989% (492940)\n",
      "Khan: 63.00001050837531% (4436462)\n",
      "O'Tooley: 2.999999147969569% (211260)\n",
      "Correy: 19.999994319797125% (1408400)\n",
      "Li: 13.999996023857989% (985880)\n",
      "-------------------------\n",
      "The winner is: Khan\n",
      "-------------------------\n"
     ]
    }
   ],
   "source": [
    "print(\"-------------------------\")\n",
    "print(\"Election Results\")   \n",
    "print(\"-------------------------\")\n",
    "print(\"Total Votes :\" + str(count))    \n",
    "print(\"-------------------------\")\n",
    "for i in range(len(unique_candidate)):\n",
    "            print(unique_candidate[i] + \": \" + str(vote_percent[i]) +\"% (\" + str(vote_count[i])+ \")\")\n",
    "print(\"-------------------------\")\n",
    "print(\"The winner is: \" + winner)\n",
    "print(\"-------------------------\")\n"
   ]
  },
  {
   "cell_type": "code",
   "execution_count": 13,
   "id": "7c669aa8",
   "metadata": {},
   "outputs": [],
   "source": []
  },
  {
   "cell_type": "code",
   "execution_count": null,
   "id": "3a426fe4",
   "metadata": {},
   "outputs": [],
   "source": []
  }
 ],
 "metadata": {
  "kernelspec": {
   "display_name": "Python 3",
   "language": "python",
   "name": "python3"
  },
  "language_info": {
   "codemirror_mode": {
    "name": "ipython",
    "version": 3
   },
   "file_extension": ".py",
   "mimetype": "text/x-python",
   "name": "python",
   "nbconvert_exporter": "python",
   "pygments_lexer": "ipython3",
   "version": "3.9.1"
  }
 },
 "nbformat": 4,
 "nbformat_minor": 5
}
